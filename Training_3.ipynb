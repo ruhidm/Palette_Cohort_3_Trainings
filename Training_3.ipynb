{
 "cells": [
  {
   "attachments": {},
   "cell_type": "markdown",
   "metadata": {},
   "source": [
    "# Training 3"
   ]
  },
  {
   "attachments": {},
   "cell_type": "markdown",
   "metadata": {},
   "source": [
    "## Introduction to NumPy"
   ]
  },
  {
   "attachments": {},
   "cell_type": "markdown",
   "metadata": {},
   "source": [
    "NumPy (Numerical Python) is a popular library in Python that provides support for large, multi-dimensional arrays and matrices, along with a collection of mathematical functions to operate on these arrays efficiently. It is an essential tool for scientific computing and data analysis in Python.\n",
    "\n",
    "Here are some key features and benefits of NumPy:\n",
    "\n",
    "1. N-dimensional Array: NumPy's main feature is the `ndarray` (n-dimensional array) object, which allows you to efficiently store and manipulate large arrays of homogeneous data. It provides a convenient and efficient way to handle numerical data.\n",
    "\n",
    "2. Mathematical Operations: NumPy offers a wide range of mathematical functions that operate element-wise on arrays, enabling efficient numerical computations. These functions are optimized for performance and can be applied to entire arrays without the need for loops.\n",
    "\n",
    "3. Broadcasting: NumPy supports broadcasting, which is a powerful mechanism for performing operations on arrays of different shapes. Broadcasting allows you to perform arithmetic operations between arrays of different sizes, making your code more concise and efficient.\n",
    "\n",
    "4. Integration with Other Libraries: NumPy is a fundamental building block for many scientific computing and data analysis libraries in Python. It integrates seamlessly with libraries such as SciPy, Pandas, Matplotlib, and scikit-learn, forming a powerful ecosystem for data analysis, machine learning, and scientific research.\n",
    "\n",
    "5. Efficient Memory Management: NumPy arrays are stored in contiguous memory blocks, which leads to efficient memory utilization and enables faster computation. The underlying implementation of NumPy is written in C, making it highly optimized and suitable for handling large datasets.\n",
    "\n",
    "6. Array Indexing and Slicing: NumPy provides flexible indexing and slicing operations that allow you to access and modify specific elements or subsets of an array. This enables efficient data manipulation and extraction from arrays.\n",
    "\n",
    "7. Linear Algebra Operations: NumPy includes a rich set of linear algebra functions for performing matrix operations, such as matrix multiplication, matrix inversion, eigenvalues, and eigenvectors. These operations are essential for many scientific and numerical computations.\n",
    "\n",
    "NumPy is widely used in various domains, including scientific research, data analysis, machine learning, image processing, and computational physics. Its efficiency, simplicity, and powerful features make it a fundamental tool for numerical computing in Python."
   ]
  },
  {
   "cell_type": "code",
   "execution_count": null,
   "metadata": {},
   "outputs": [],
   "source": [
    "# importing numpy library\n",
    "import numpy as np \n",
    "\n",
    "#Note that if you have not installed Numpy to your computer you cand do it by following code after # sign\n",
    "\n",
    "# pip install numpy ---> in you terminal\n",
    "# !pip install numpy ---> in jupyter cell"
   ]
  },
  {
   "cell_type": "code",
   "execution_count": null,
   "metadata": {},
   "outputs": [],
   "source": [
    "#Create a 1D NumPy array:\n",
    "arr_1d = np.array([1, 2, 3, 4, 5])\n",
    "print(arr_1d)"
   ]
  },
  {
   "cell_type": "code",
   "execution_count": null,
   "metadata": {},
   "outputs": [],
   "source": [
    "#Create a 2D NumPy array:\n",
    "arr_2d = np.array([[1, 2, 3], [4, 5, 6]])\n",
    "print(arr_2d)"
   ]
  },
  {
   "cell_type": "code",
   "execution_count": null,
   "metadata": {},
   "outputs": [],
   "source": [
    "# Same results but more readable\n",
    "np.array([[1, 2, 3], \n",
    "          [4, 5, 6]])"
   ]
  },
  {
   "cell_type": "code",
   "execution_count": null,
   "metadata": {},
   "outputs": [],
   "source": [
    "#Create an array of zeros:\n",
    "zeros_arr = np.zeros((2, 3))\n",
    "print(zeros_arr)"
   ]
  },
  {
   "cell_type": "code",
   "execution_count": null,
   "metadata": {},
   "outputs": [],
   "source": [
    "#Create an array of ones:\n",
    "ones_arr = np.ones((3, 4))\n",
    "print(ones_arr)\n"
   ]
  },
  {
   "cell_type": "code",
   "execution_count": null,
   "metadata": {},
   "outputs": [],
   "source": [
    "list(range(6,12,2))"
   ]
  },
  {
   "cell_type": "code",
   "execution_count": null,
   "metadata": {},
   "outputs": [],
   "source": [
    "#Create an array with a specified range:\n",
    "range_arr = np.arange(5, 15, 2)\n",
    "print(range_arr)"
   ]
  },
  {
   "cell_type": "code",
   "execution_count": null,
   "metadata": {},
   "outputs": [],
   "source": [
    "#Reshape an array:\n",
    "arr = np.array([1, 2, 3, 4, 5, 6])\n",
    "reshaped_arr = arr.reshape(2, 3)\n",
    "print(reshaped_arr)\n"
   ]
  },
  {
   "cell_type": "code",
   "execution_count": null,
   "metadata": {},
   "outputs": [],
   "source": [
    "#Perform element-wise operations:\n",
    "\n",
    "a = np.array([1, 2, 3])\n",
    "b = np.array([4, 5, 6])\n",
    "\n",
    "# Addition\n",
    "addition = a + b\n",
    "print(addition)\n",
    "\n",
    "# Subtraction\n",
    "subtraction = a - b\n",
    "print(subtraction)\n",
    "\n",
    "# Multiplication\n",
    "multiplication = a * b\n",
    "print(multiplication)\n",
    "\n",
    "# Division\n",
    "division = a / b\n",
    "print(division)\n",
    "\n",
    "# Exponentiation\n",
    "exponentiation = a ** b\n",
    "print(exponentiation)\n",
    "\n"
   ]
  },
  {
   "cell_type": "code",
   "execution_count": null,
   "metadata": {},
   "outputs": [],
   "source": [
    "b//a"
   ]
  },
  {
   "cell_type": "code",
   "execution_count": null,
   "metadata": {},
   "outputs": [],
   "source": [
    "8 // 5\n",
    "# 1*5 +3"
   ]
  },
  {
   "cell_type": "code",
   "execution_count": null,
   "metadata": {},
   "outputs": [],
   "source": [
    "#Perform matrix multiplication:\n",
    "\n",
    "mat_a = np.array([[1, 2], \n",
    "                  [3, 4]])\n",
    "mat_b = np.array([[5, 6], \n",
    "                  [7, 8]])\n",
    "\n",
    "mat_mult = np.dot(mat_a, mat_b)\n",
    "print(mat_mult)\n",
    "\n",
    "\n",
    "#           | a  b |   | e  f |     | ae + bg   af + bh |\n",
    "# Matrix A = |      | * |      |  =  |                    |\n",
    "#           | c  d |   | g  h |     | ce + dg   cf + dh |\n"
   ]
  },
  {
   "cell_type": "code",
   "execution_count": null,
   "metadata": {},
   "outputs": [],
   "source": [
    "#Access elements by indexing:\n",
    "\n",
    "arr = np.array([1, 2, 3, 4, 5])"
   ]
  },
  {
   "cell_type": "code",
   "execution_count": null,
   "metadata": {},
   "outputs": [],
   "source": [
    "# Access the first element\n",
    "first_element = arr[0]\n",
    "print(first_element)"
   ]
  },
  {
   "cell_type": "code",
   "execution_count": null,
   "metadata": {},
   "outputs": [],
   "source": [
    "# Access a range of elements\n",
    "range_elements = arr[1:4]\n",
    "print(range_elements)"
   ]
  },
  {
   "cell_type": "code",
   "execution_count": null,
   "metadata": {},
   "outputs": [],
   "source": [
    "# Access elements with a step\n",
    "step_elements = arr[::2]\n",
    "print(step_elements)"
   ]
  },
  {
   "cell_type": "code",
   "execution_count": null,
   "metadata": {},
   "outputs": [],
   "source": [
    "# Access elements with a step\n",
    "step_elements = arr[:2]\n",
    "print(step_elements)"
   ]
  },
  {
   "cell_type": "code",
   "execution_count": null,
   "metadata": {},
   "outputs": [],
   "source": [
    "# Calculating mean\n",
    "\n",
    "arr = np.array([1, 2, 3, 4, 5])\n",
    "\n",
    "# Mean of the entire array\n",
    "mean = np.mean(arr)\n",
    "print(mean)\n",
    "\n",
    "# Mean row-wise in a 2D array\n",
    "arr_2d = np.array([[1, 2, 3], \n",
    "                   [4, 5, 6]])\n",
    "mean_row_wise = np.mean(arr_2d, axis=1)\n",
    "print(mean_row_wise)\n",
    "\n",
    "# Mean column-wise in a 2D array\n",
    "mean_col_wise = np.mean(arr_2d, axis=0)\n",
    "print(mean_col_wise)"
   ]
  },
  {
   "cell_type": "code",
   "execution_count": null,
   "metadata": {},
   "outputs": [],
   "source": [
    "# Calculating Median\n",
    "\n",
    "arr = np.array([1, 2, 3, 4, 5])\n",
    "\n",
    "# Median of the entire array\n",
    "median = np.median(arr)\n",
    "print(median)\n",
    "\n",
    "# Median row-wise in a 2D array\n",
    "arr_2d = np.array([[1, 2, 3], \n",
    "                   [4, 5, 6]])\n",
    "median_row_wise = np.median(arr_2d, axis=1)\n",
    "print(median_row_wise)\n",
    "\n",
    "# Median column-wise in a 2D array\n",
    "median_col_wise = np.median(arr_2d, axis=0)\n",
    "print(median_col_wise)"
   ]
  },
  {
   "cell_type": "code",
   "execution_count": null,
   "metadata": {},
   "outputs": [],
   "source": [
    "arr = np.array([1, 2, 3, 4, 5, 6]) # Number of elements are even\n",
    "# Median of the entire array\n",
    "median = np.median(arr)\n",
    "print(median)"
   ]
  },
  {
   "cell_type": "code",
   "execution_count": null,
   "metadata": {},
   "outputs": [],
   "source": [
    "#Calculate the standard deviation:\n",
    "\n",
    "arr = np.array([1, 2, 3, 4, 5])\n",
    "\n",
    "# Standard deviation of the entire array\n",
    "std_dev = np.std(arr)\n",
    "print(std_dev)\n",
    "\n",
    "# Standard deviation row-wise in a 2D array\n",
    "arr_2d = np.array([[1, 2, 3], \n",
    "                   [4, 5, 6]])\n",
    "std_dev_row_wise = np.std(arr_2d, axis=1)\n",
    "print(std_dev_row_wise)\n",
    "\n",
    "# Standard deviation column-wise in a 2D array\n",
    "std_dev_col_wise = np.std(arr_2d, axis=0)\n",
    "print(std_dev_col_wise)"
   ]
  },
  {
   "cell_type": "code",
   "execution_count": null,
   "metadata": {},
   "outputs": [],
   "source": [
    "# Calculate the variance: # the square of std\n",
    "\n",
    "arr = np.array([1, 2, 3, 4, 5])\n",
    "\n",
    "# Variance of the entire array\n",
    "variance = np.var(arr)\n",
    "print(variance)\n",
    "\n",
    "# Variance row-wise in a 2D array\n",
    "arr_2d = np.array([[1, 2, 3], [4, 5, 6]])\n",
    "variance_row_wise = np.var(arr_2d, axis=1)\n",
    "print(variance_row_wise)\n",
    "\n",
    "# Variance column-wise in a 2D array\n",
    "variance_col_wise = np.var(arr_2d, axis=0)\n",
    "print(variance_col_wise)"
   ]
  },
  {
   "cell_type": "markdown",
   "metadata": {},
   "source": [
    "## Introduction to Pandas"
   ]
  },
  {
   "cell_type": "markdown",
   "metadata": {},
   "source": [
    "Pandas is a powerful open-source library in Python that provides high-performance data manipulation and analysis tools. It is built on top of NumPy and is widely used for tasks such as data cleaning, data preprocessing, data wrangling, and exploratory data analysis. Pandas offers two main data structures: the Series and DataFrame.\n",
    "\n",
    "Here are some key features and benefits of Pandas:\n",
    "\n",
    "1. DataFrame: The DataFrame is a 2-dimensional labeled data structure in Pandas that represents tabular data, similar to a table in a relational database or a spreadsheet. It allows you to store and manipulate structured data efficiently. DataFrames can handle heterogeneous data types and offer a wide range of operations for indexing, merging, reshaping, and aggregating data.\n",
    "\n",
    "2. Series: The Series is a one-dimensional labeled array in Pandas. It is similar to a column in a DataFrame or a labeled NumPy array. Series objects can hold any data type and provide powerful indexing capabilities. They are often used to represent a single column or a single row of data.\n",
    "\n",
    "3. Data Alignment: Pandas supports automatic data alignment during operations. When performing operations on multiple Series or DataFrames, Pandas aligns the data based on the labels, making it easy to perform calculations and manipulations across different datasets.\n",
    "\n",
    "4. Data Cleaning and Preprocessing: Pandas provides a wide range of functions and methods for cleaning and preprocessing data. It allows you to handle missing data, perform data imputation, remove duplicates, handle outliers, and perform data transformations easily.\n",
    "\n",
    "5. Data Exploration and Analysis: Pandas offers extensive functionality for exploratory data analysis. You can perform descriptive statistics, aggregations, filtering, sorting, grouping, and more. It also integrates well with other libraries for visualizations such as Matplotlib and Seaborn.\n",
    "\n",
    "6. Data Input and Output: Pandas supports reading and writing data in various file formats, including CSV, Excel, SQL databases, and more. It provides convenient functions to import and export data, making it easy to work with data from different sources.\n",
    "\n",
    "7. Integration with NumPy and Scikit-Learn: Pandas seamlessly integrates with NumPy and Scikit-Learn, enabling smooth data exchange between these libraries. It allows you to combine the power of Pandas for data manipulation with the capabilities of NumPy for efficient numerical operations and Scikit-Learn for machine learning tasks.\n",
    "\n",
    "Pandas is widely used in data analysis, data science, finance, research, and many other domains. Its intuitive and flexible API, along with its extensive set of functions and tools, make it a go-to library for working with structured data in Python."
   ]
  },
  {
   "cell_type": "code",
   "execution_count": null,
   "metadata": {},
   "outputs": [],
   "source": [
    "# importing numpy library\n",
    "import pandas as pd \n",
    "\n",
    "#Note that if you have not installed Numpy to your computer you cand do it by following code after # sign\n",
    "\n",
    "# pip install numpy ---> in you terminal\n",
    "# !pip install numpy ---> in jupyter cell"
   ]
  },
  {
   "cell_type": "code",
   "execution_count": null,
   "metadata": {},
   "outputs": [],
   "source": [
    "import random\n",
    "import pandas as pd\n",
    "\n",
    "# Define the range for longitude and latitude\n",
    "lon_range = (-105, -100)\n",
    "lat_range = (50, 52)\n",
    "\n",
    "# Define the list of soil types\n",
    "soil_types = ['black', 'gray', 'dark brown', 'brown', None]\n",
    "\n",
    "# Create an empty list to store the farms\n",
    "farms = []\n",
    "\n",
    "# Generate 40 farms\n",
    "for i in range(40):\n",
    "    farm = {\n",
    "        'farm_name': f'Farm {i+1}', # f is formated string\n",
    "        'farm_lon': round(random.uniform(lon_range[0], lon_range[1]), 2), # random lon with 2 decimal points\n",
    "        'farm_lat': round(random.uniform(lat_range[0], lat_range[1]), 2), # rantom lat with 2 decimal points\n",
    "        'temperature': round(random.uniform(18, 25), 1), #random temp with 1 decimal points\n",
    "        'precipitation': round(random.uniform(20, 50), 1), # random prec with 1 decimal points\n",
    "        'soil_type': random.choice(soil_types) # random soil types from above list\n",
    "    }\n",
    "    farms.append(farm) "
   ]
  },
  {
   "cell_type": "code",
   "execution_count": null,
   "metadata": {},
   "outputs": [],
   "source": [
    "farms"
   ]
  },
  {
   "cell_type": "code",
   "execution_count": null,
   "metadata": {},
   "outputs": [],
   "source": [
    "df=pd.DataFrame(farms)"
   ]
  },
  {
   "cell_type": "code",
   "execution_count": null,
   "metadata": {},
   "outputs": [],
   "source": [
    "df.head(3)"
   ]
  },
  {
   "cell_type": "code",
   "execution_count": null,
   "metadata": {},
   "outputs": [],
   "source": [
    "df.tail(3)"
   ]
  },
  {
   "cell_type": "code",
   "execution_count": null,
   "metadata": {},
   "outputs": [],
   "source": [
    "df.info()"
   ]
  },
  {
   "cell_type": "code",
   "execution_count": null,
   "metadata": {},
   "outputs": [],
   "source": [
    "df.isna().sum()"
   ]
  },
  {
   "cell_type": "code",
   "execution_count": null,
   "metadata": {},
   "outputs": [],
   "source": [
    "df.columns"
   ]
  },
  {
   "cell_type": "code",
   "execution_count": null,
   "metadata": {},
   "outputs": [],
   "source": [
    "df['farm_name'] "
   ]
  },
  {
   "cell_type": "code",
   "execution_count": null,
   "metadata": {},
   "outputs": [],
   "source": [
    "df[['farm_name', 'precipitation']]"
   ]
  },
  {
   "cell_type": "code",
   "execution_count": null,
   "metadata": {},
   "outputs": [],
   "source": []
  },
  {
   "cell_type": "code",
   "execution_count": null,
   "metadata": {},
   "outputs": [],
   "source": [
    "num_cols=['farm_name', 'temperature', 'precipitation']"
   ]
  },
  {
   "cell_type": "code",
   "execution_count": null,
   "metadata": {},
   "outputs": [],
   "source": [
    "df[num_cols].describe().T"
   ]
  },
  {
   "cell_type": "code",
   "execution_count": null,
   "metadata": {},
   "outputs": [],
   "source": [
    "df[df['temperature']>22]"
   ]
  },
  {
   "cell_type": "code",
   "execution_count": null,
   "metadata": {},
   "outputs": [],
   "source": [
    "df.loc[(df['temperature']>22) & \n",
    "       (df['precipitation']< 40) & \n",
    "       (df['soil_type']=='brown')]"
   ]
  },
  {
   "cell_type": "raw",
   "metadata": {},
   "source": [
    "# Reading data from a file into a Pandas DataFrame\n",
    "#df = pd.read_csv('/your/local/file/filename.csv')  # Reading from a CSV file\n",
    "#df = pd.read_excel('your/local/file/filename.xlsx')  # Reading from an Excel file\n",
    "\n",
    "# Viewing the first few rows of the DataFrame\n",
    "df.head()  # By default, it shows the first 5 rows\n",
    "df.head(3)  # Shows the first n rows\n",
    "\n",
    "# Viewing the last few rows of the DataFrame\n",
    "df.tail()  # By default, it shows the last 5 rows\n",
    "df.tail(2)  # Shows the last n rows\n",
    "\n",
    "# Accessing column names of the DataFrame\n",
    "df.columns\n",
    "\n",
    "# Accessing summary statistics of the DataFrame\n",
    "df.describe()\n",
    "\n",
    "# Selecting a single column from the DataFrame\n",
    "df['farm_lon'][:2] # slicing index 0 - 1\n",
    "\n",
    "# Selecting multiple columns from the DataFrame\n",
    "df[['farm_name', 'precipitation']][2:4] # slicing index 2 to 3\n",
    "\n",
    "# Filtering rows based on a condition\n",
    "df[df['precipitation'] > 45]\n",
    "\n",
    "# Sorting the DataFrame by one or more columns\n",
    "df.sort_values(by='farm_lat', ascending=True)  # Ascending order\n",
    "df.sort_values(by=['farm_lat', 'farm_name'], ascending=[True, False])  # Sorting by multiple columns\n",
    "\n",
    "# Grouping data based on a column and calculating aggregates\n",
    "df.groupby('soil_type').mean()  # Calculates the mean for each group\n",
    "df.groupby(['column1', 'column2']).sum()  # Grouping by multiple columns and calculating the sum\n",
    "\n",
    "# Creating a new column based on existing columns\n",
    "df['new_column'] = df['column1'] + df['column2']\n",
    "\n",
    "# Removing duplicate rows from the DataFrame\n",
    "df.drop_duplicates()\n",
    "\n",
    "# Handling missing values\n",
    "df.isnull()  # Checks for missing values in the DataFrame\n",
    "df.dropna()  # Drops rows with missing values\n",
    "df.fillna(value)  # Fills missing values with a specified value\n",
    "\n",
    "# Saving the DataFrame to a file\n",
    "df.to_csv('filename.csv', index=False)  # Saving to a CSV file\n",
    "df.to_excel('filename.xlsx', index=False)  # Saving to an Excel file\n",
    "\n",
    "# Accessing a specific cell value\n",
    "df.at[index, 'column_name']  # Accessing a cell value by index and column name\n",
    "df.iat[index, column_index]  # Accessing a cell value by index and column index\n",
    "\n",
    "# Renaming columns\n",
    "df.rename(columns={'old_name': 'new_name'}, inplace=True)  # Rename a single column\n",
    "df.columns = ['new_name1', 'new_name2']  # Rename all columns at once\n",
    "\n",
    "# Changing data types\n",
    "df['column_name'] = df['column_name'].astype('new_type')  # Change the data type of a column\n",
    "\n",
    "# Selecting rows based on index\n",
    "df.loc[index]  # Select a single row by index label\n",
    "df.loc[start_index:end_index]  # Select rows within a specific index range\n",
    "\n",
    "# Selecting rows based on conditions\n",
    "df.loc[df['column_name'] > value]  # Select rows based on a condition\n",
    "df.loc[(df['column1'] > value) & (df['column2'] == 'string')]  # Select rows based on multiple conditions\n",
    "\n",
    "# Adding a new row to the DataFrame\n",
    "new_row = pd.Series({'column1': value1, 'column2': value2})\n",
    "df = df.append(new_row, ignore_index=True)\n",
    "\n",
    "# Updating values in a specific column based on conditions\n",
    "df.loc[df['column_name'] > value, 'column_name'] = new_value  # Update values in a specific column\n",
    "\n",
    "# Dropping columns from the DataFrame\n",
    "df.drop('column_name', axis=1, inplace=True)  # Drop a single column\n",
    "df.drop(['column1', 'column2'], axis=1, inplace=True)  # Drop multiple columns\n",
    "\n",
    "# Dropping rows from the DataFrame\n",
    "df.drop(index, inplace=True)  # Drop a single row\n",
    "df.drop([index1, index2], inplace=True)  # Drop multiple rows\n",
    "\n",
    "# Applying a function to a column or DataFrame\n",
    "df['column_name'] = df['column_name'].apply(function)  # Apply a function to a column\n",
    "df = df.applymap(function)  # Apply a function element-wise to the entire DataFrame\n",
    "\n",
    "# Merging two DataFrames\n",
    "merged_df = pd.merge(df1, df2, on='common_column')  # Merge based on a common column\n",
    "\n",
    "# Joining two DataFrames\n",
    "joined_df = df1.join(df2, on='common_column', how='inner')  # Join based on a common column\n",
    "\n",
    "# Reshaping the DataFrame\n",
    "df.pivot(index='index_column', columns='columns_column', values='values_column')  # Pivot the DataFrame\n",
    "df.melt(id_vars=['id_columns'], value_vars=['value_columns'])  # Unpivot the DataFrame\n",
    "\n",
    "# Replacing values in a column\n",
    "df['column_name'].replace(old_value, new_value, inplace=True)  # Replace a specific value\n",
    "df['column_name'].replace([old_value1, old_value2], [new_value1, new_value2], inplace=True)  # Replace multiple values\n",
    "\n",
    "# Creating a subset of the DataFrame based on conditions\n",
    "subset_df = df[(df['column1'] > value) & (df['column2'] == 'string')]\n",
    "\n",
    "# Resetting the index of the DataFrame\n",
    "df.reset_index(drop=True, inplace=True)  # Reset the index and drop the old index column\n",
    "\n",
    "# Applying aggregation functions to specific columns\n",
    "df.agg({'column1': 'sum', 'column2': 'mean'})  # Apply different aggregation functions to different columns\n",
    "\n",
    "# Applying string operations to a column\n",
    "df['column_name'].str.upper()  # Convert column values to uppercase\n",
    "df['column_name'].str.contains('pattern')  # Check if column values contain a pattern\n",
    "\n",
    "# Handling datetime data\n",
    "df['date_column'] = pd.to_datetime(df['date_column'])  # Convert a column to datetime data type\n",
    "df['date_column'].dt.year  # Extract the year from a datetime column\n",
    "df['date_column'].dt.month  # Extract the month from a datetime column\n",
    "\n",
    "# Sampling random rows from the DataFrame\n",
    "df.sample(n=5)  # Randomly sample n rows from the DataFrame\n",
    "\n",
    "# Creating a new DataFrame by selecting specific rows and columns\n",
    "new_df = df.loc[indexes, ['column1', 'column2']]\n",
    "\n",
    "# Applying a rolling window function to a column\n",
    "df['column_name'].rolling(window_size).mean()  # Calculate the rolling mean of a column\n",
    "\n",
    "# Checking for unique values in a column\n",
    "df['column_name'].unique()  # Get an array of unique values in a column\n",
    "\n",
    "# Checking for duplicate rows based on selected columns\n",
    "df.duplicated(subset=['column1', 'column2'])  # Check for duplicates based on specific columns\n",
    "\n",
    "# Dropping rows with duplicate values based on selected columns\n",
    "df.drop_duplicates(subset=['column1', 'column2'], inplace=True)  # Drop duplicates based on specific columns\n",
    "\n",
    "# Checking for null values in the DataFrame\n",
    "df.isnull()  # Checks for null values in the DataFrame\n",
    "\n",
    "# Filling null values with a specified value\n",
    "df.fillna(value, inplace=True)  # Fills null values with a specified value\n",
    "\n",
    "# Reversing the order of rows in the DataFrame\n",
    "df[::-1]  # Reverse the order of rows\n",
    "\n",
    "# Checking if a column contains a specific value\n",
    "df['column_name'].isin([value1, value2])  # Check if values in a column are in a specified list\n",
    "\n",
    "# Applying a function to specific rows and columns\n",
    "df.loc[indexes, ['column1', 'column2']] = df.loc[indexes, ['column1', 'column2']].apply(function)\n",
    "\n",
    "# Merging columns into a single column\n",
    "df['new_column'] = df[['column1', 'column2', 'column3']].agg(','.join, axis=1)\n",
    "\n",
    "# Calculating cumulative sum or product of a column\n",
    "df['cumulative_sum'] = df['column_name'].cumsum()\n",
    "df['cumulative_product'] = df['column_name'].cumprod()\n",
    "\n",
    "# Checking for the presence of a substring in a column\n",
    "df['column_name'].str.contains('substring')\n",
    "\n",
    "# Checking for the absence of a substring in a column\n",
    "~df['column_name'].str.contains('substring')\n",
    "\n",
    "# Replacing values in multiple columns based on conditions\n",
    "df.loc[df['column1'] > value, ['column2', 'column3']] = new_value\n",
    "\n",
    "# Selecting rows with a specific value in a column\n",
    "df.loc[df['column_name'] == value]\n",
    "\n",
    "# Sorting the DataFrame by index\n",
    "df.sort_index(ascending=True)\n",
    "\n",
    "# Reversing the order of columns in the DataFrame\n",
    "df[df.columns[::-1]]"
   ]
  }
 ],
 "metadata": {
  "kernelspec": {
   "display_name": "Python 3",
   "language": "python",
   "name": "python3"
  },
  "language_info": {
   "codemirror_mode": {
    "name": "ipython",
    "version": 3
   },
   "file_extension": ".py",
   "mimetype": "text/x-python",
   "name": "python",
   "nbconvert_exporter": "python",
   "pygments_lexer": "ipython3",
   "version": "3.9.13"
  },
  "orig_nbformat": 4
 },
 "nbformat": 4,
 "nbformat_minor": 2
}
